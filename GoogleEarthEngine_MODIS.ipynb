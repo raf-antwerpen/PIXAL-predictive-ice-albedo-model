{
 "cells": [
  {
   "cell_type": "code",
   "execution_count": 1,
   "id": "9ad0d555",
   "metadata": {},
   "outputs": [],
   "source": [
    "import ee\n",
    "import geemap\n",
    "import pandas as pd\n",
    "import matplotlib.pyplot as plt"
   ]
  },
  {
   "cell_type": "code",
   "execution_count": 2,
   "id": "425aa9ce",
   "metadata": {
    "scrolled": true
   },
   "outputs": [
    {
     "data": {
      "text/html": [
       "<p>To authorize access needed by Earth Engine, open the following\n",
       "        URL in a web browser and follow the instructions:</p>\n",
       "        <p><a href=https://code.earthengine.google.com/client-auth?scopes=https%3A//www.googleapis.com/auth/earthengine%20https%3A//www.googleapis.com/auth/devstorage.full_control&request_id=MQf7Ca39UvAfCjvswTGJJFcDzUovC5to-_lqLiVQoi4&tc=sBWkT3mKUIb1yJAMnhs2_PVQs9qC2czJH3PBBRur3d4&cc=g_Xk2b5HPQXh1HOn-vBCbYYEIwgIm46-G0bISsGCZ3k>https://code.earthengine.google.com/client-auth?scopes=https%3A//www.googleapis.com/auth/earthengine%20https%3A//www.googleapis.com/auth/devstorage.full_control&request_id=MQf7Ca39UvAfCjvswTGJJFcDzUovC5to-_lqLiVQoi4&tc=sBWkT3mKUIb1yJAMnhs2_PVQs9qC2czJH3PBBRur3d4&cc=g_Xk2b5HPQXh1HOn-vBCbYYEIwgIm46-G0bISsGCZ3k</a></p>\n",
       "        <p>The authorization workflow will generate a code, which you should paste in the box below.</p>\n",
       "        "
      ],
      "text/plain": [
       "<IPython.core.display.HTML object>"
      ]
     },
     "metadata": {},
     "output_type": "display_data"
    },
    {
     "name": "stdout",
     "output_type": "stream",
     "text": [
      "Enter verification code: 4/1AeaYSHBfmAun-1tTYsK2imqw-ljdZqZJnuf1NDoGiG30wg0O8SgmKy4DfR4\n",
      "\n",
      "Successfully saved authorization token.\n"
     ]
    }
   ],
   "source": [
    "ee.Authenticate()"
   ]
  },
  {
   "cell_type": "code",
   "execution_count": 3,
   "id": "fe20e4d8",
   "metadata": {},
   "outputs": [],
   "source": [
    "ee.Initialize()"
   ]
  },
  {
   "cell_type": "markdown",
   "id": "3f81c6dd",
   "metadata": {},
   "source": [
    "# Shapefiles"
   ]
  },
  {
   "cell_type": "code",
   "execution_count": 4,
   "id": "931cc67a",
   "metadata": {},
   "outputs": [
    {
     "data": {
      "application/vnd.jupyter.widget-view+json": {
       "model_id": "ae77369edb514b8785d5f665f3ec3dea",
       "version_major": 2,
       "version_minor": 0
      },
      "text/plain": [
       "Map(center=[73.05915048517876, -41.91735811925366], controls=(WidgetControl(options=['position', 'transparent_…"
      ]
     },
     "execution_count": 4,
     "metadata": {},
     "output_type": "execute_result"
    }
   ],
   "source": [
    "Map=geemap.Map(center=[70, -40], zoom=10)\n",
    "\n",
    "shp_path='/Users/raf/Documents/Columbia/Research/Albedo/Data/GrIS_polygon/GrIS_polygon.shp'\n",
    "shp=geemap.shp_to_ee(shp_path)\n",
    "geo=shp.geometry() \n",
    "\n",
    "Map.centerObject(shp, 3)\n",
    "Map.addLayer(shp, {}, 'Greenland')\n",
    "\n",
    "Map.addLayerControl()\n",
    "Map"
   ]
  },
  {
   "cell_type": "markdown",
   "id": "16af26fd",
   "metadata": {},
   "source": [
    "# Data Management\n",
    "Import datasets, select bands, then calculate Normalized Difference Vegetation Index (NDVI)"
   ]
  },
  {
   "cell_type": "code",
   "execution_count": 5,
   "id": "39dca5a5",
   "metadata": {},
   "outputs": [],
   "source": [
    "dataset=ee.ImageCollection(\"MODIS/006/MOD10A1\")"
   ]
  },
  {
   "cell_type": "markdown",
   "id": "e06c9c28",
   "metadata": {},
   "source": [
    "# Get bands"
   ]
  },
  {
   "cell_type": "code",
   "execution_count": 6,
   "id": "d78f1b7a",
   "metadata": {},
   "outputs": [],
   "source": [
    "def getbands(image):\n",
    "    return image.select(['Snow_Albedo_Daily_Tile'])"
   ]
  },
  {
   "cell_type": "code",
   "execution_count": 7,
   "id": "5cbf6554",
   "metadata": {},
   "outputs": [],
   "source": [
    "bands = dataset.map(getbands)"
   ]
  },
  {
   "cell_type": "markdown",
   "id": "40407978",
   "metadata": {},
   "source": [
    "# Filter Bounds"
   ]
  },
  {
   "cell_type": "code",
   "execution_count": 8,
   "id": "d587af86",
   "metadata": {},
   "outputs": [],
   "source": [
    "def clipgeo(image):\n",
    "    return image.clip(geo)"
   ]
  },
  {
   "cell_type": "code",
   "execution_count": 9,
   "id": "7070de01",
   "metadata": {},
   "outputs": [],
   "source": [
    "bandsclip=bands.map(clipgeo)"
   ]
  },
  {
   "cell_type": "markdown",
   "id": "7e9edc09",
   "metadata": {},
   "source": [
    "# Filter Dates"
   ]
  },
  {
   "cell_type": "code",
   "execution_count": 10,
   "id": "33d9f200",
   "metadata": {},
   "outputs": [],
   "source": [
    "years=range(2000,2023)"
   ]
  },
  {
   "cell_type": "code",
   "execution_count": 11,
   "id": "ed97825c",
   "metadata": {},
   "outputs": [],
   "source": [
    "def yearly_image(year):\n",
    "    start_date=ee.Date.fromYMD(year, 6, 1) \n",
    "    end_date=start_date.advance(92, \"day\")\n",
    "    collection=bandsclip.filterDate(start_date, end_date) \n",
    "    return collection"
   ]
  },
  {
   "cell_type": "code",
   "execution_count": 12,
   "id": "1443d177",
   "metadata": {},
   "outputs": [],
   "source": [
    "collection={}"
   ]
  },
  {
   "cell_type": "code",
   "execution_count": 13,
   "id": "fc8bb152",
   "metadata": {},
   "outputs": [],
   "source": [
    "for year in years:\n",
    "    collection[year]=yearly_image(year)"
   ]
  },
  {
   "cell_type": "markdown",
   "id": "c275b6f0",
   "metadata": {},
   "source": [
    "# Export Images"
   ]
  },
  {
   "cell_type": "code",
   "execution_count": 103,
   "id": "43618c33",
   "metadata": {
    "scrolled": true
   },
   "outputs": [
    {
     "name": "stdout",
     "output_type": "stream",
     "text": [
      "Total number of images: 92\n",
      "\n"
     ]
    }
   ],
   "source": [
    "for yr in range(2000,2023):\n",
    "    geemap.ee_export_image_collection_to_drive(collection[yr], folder='googleearthengine_MOD10A1_snow_albedo_daily_tile_2022', scale=500, region=geo, crs='EPSG:4326')"
   ]
  },
  {
   "cell_type": "code",
   "execution_count": null,
   "id": "1e148f1a",
   "metadata": {},
   "outputs": [],
   "source": []
  }
 ],
 "metadata": {
  "kernelspec": {
   "display_name": "Python 3 (ipykernel)",
   "language": "python",
   "name": "python3"
  },
  "language_info": {
   "codemirror_mode": {
    "name": "ipython",
    "version": 3
   },
   "file_extension": ".py",
   "mimetype": "text/x-python",
   "name": "python",
   "nbconvert_exporter": "python",
   "pygments_lexer": "ipython3",
   "version": "3.8.17"
  }
 },
 "nbformat": 4,
 "nbformat_minor": 5
}
